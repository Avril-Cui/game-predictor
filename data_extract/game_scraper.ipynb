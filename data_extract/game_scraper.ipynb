{
 "cells": [
  {
   "cell_type": "code",
   "execution_count": 54,
   "metadata": {},
   "outputs": [],
   "source": [
    "# fetch html content of a given URL\n",
    "import requests\n",
    "from bs4 import BeautifulSoup\n",
    "\n",
    "response = requests.get('https://pvp.qq.com/web201605/herodetail/hainuo.shtml')\n",
    "\n",
    "# decode response to output chinese characters\n",
    "html_content = response.content.decode('GBK', 'ignore')"
   ]
  },
  {
   "cell_type": "code",
   "execution_count": 63,
   "metadata": {},
   "outputs": [
    {
     "name": "stdout",
     "output_type": "stream",
     "text": [
      "海诺\n"
     ]
    }
   ],
   "source": [
    "# parse html content with beautifulsoup\n",
    "soup = BeautifulSoup(html_content, \"html.parser\")\n",
    "name = soup.find('h2', {\"class\" : \"cover-name\"})\n",
    "print(name.text)"
   ]
  }
 ],
 "metadata": {
  "kernelspec": {
   "display_name": "Python 3",
   "language": "python",
   "name": "python3"
  },
  "language_info": {
   "codemirror_mode": {
    "name": "ipython",
    "version": 3
   },
   "file_extension": ".py",
   "mimetype": "text/x-python",
   "name": "python",
   "nbconvert_exporter": "python",
   "pygments_lexer": "ipython3",
   "version": "3.11.2"
  }
 },
 "nbformat": 4,
 "nbformat_minor": 2
}
